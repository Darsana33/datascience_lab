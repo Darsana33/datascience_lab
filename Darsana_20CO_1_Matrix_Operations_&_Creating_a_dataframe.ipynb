{
  "nbformat": 4,
  "nbformat_minor": 0,
  "metadata": {
    "colab": {
      "name": " Darsana 20CO-1 Matrix Operations & Creating a dataframe",
      "provenance": [],
      "collapsed_sections": [],
      "include_colab_link": true
    },
    "kernelspec": {
      "name": "python3",
      "display_name": "Python 3"
    }
  },
  "cells": [
    {
      "cell_type": "markdown",
      "metadata": {
        "id": "view-in-github",
        "colab_type": "text"
      },
      "source": [
        "<a href=\"https://colab.research.google.com/github/Darsana33/datascience_lab/blob/main/Darsana_20CO_1_Matrix_Operations_%26_Creating_a_dataframe.ipynb\" target=\"_parent\"><img src=\"https://colab.research.google.com/assets/colab-badge.svg\" alt=\"Open In Colab\"/></a>"
      ]
    },
    {
      "cell_type": "markdown",
      "metadata": {
        "id": "2FbiXuSJANTj"
      },
      "source": [
        "#  Matrix Operations"
      ]
    },
    {
      "cell_type": "markdown",
      "metadata": {
        "id": "a7HGCnyGS_tA"
      },
      "source": [
        "#### Matrices"
      ]
    },
    {
      "cell_type": "code",
      "metadata": {
        "id": "epy_5UAiM5va",
        "colab": {
          "base_uri": "https://localhost:8080/"
        },
        "outputId": "a29949fa-b3eb-4ef9-b33f-7b0b1d713bb9"
      },
      "source": [
        "# Create a matrix using the 'matrix()' function of the 'numpy' module.\n",
        "import numpy as np\n",
        "m1=np.matrix('1 2 3;4 5 6')\n",
        "m1"
      ],
      "execution_count": 3,
      "outputs": [
        {
          "output_type": "execute_result",
          "data": {
            "text/plain": [
              "matrix([[1, 2, 3],\n",
              "        [4, 5, 6]])"
            ]
          },
          "metadata": {},
          "execution_count": 3
        }
      ]
    },
    {
      "cell_type": "code",
      "metadata": {
        "id": "vNZ6B267NSBn",
        "colab": {
          "base_uri": "https://localhost:8080/"
        },
        "outputId": "8a372362-a83e-45c1-a591-a9b280fe89f8"
      },
      "source": [
        "# Convert a nested Python list into a matrix using the 'matrix()' function of the 'numpy' module.\n",
        "m2=np.matrix([[2,4],[6,8],[10,12]])\n",
        "m2"
      ],
      "execution_count": 4,
      "outputs": [
        {
          "output_type": "execute_result",
          "data": {
            "text/plain": [
              "matrix([[ 2,  4],\n",
              "        [ 6,  8],\n",
              "        [10, 12]])"
            ]
          },
          "metadata": {},
          "execution_count": 4
        }
      ]
    },
    {
      "cell_type": "markdown",
      "metadata": {
        "id": "aMYY5QGVS7AR"
      },
      "source": [
        "#### Matrix Multiplication\n"
      ]
    },
    {
      "cell_type": "markdown",
      "metadata": {
        "id": "F02GWaeOOv8B"
      },
      "source": [
        "\n",
        "$$\\begin{bmatrix} 8 & 7 \\\\ 3\t& -5\t\\\\\\end{bmatrix} \\begin{bmatrix} 3 \\\\ 2 \\\\\\end{bmatrix}$$\n",
        "\n",
        "To multiply two matrices, you have to use the `matmul()` function of the `numpy` module. It takes two matrices to be multiplied as inputs and returns a new matrix."
      ]
    },
    {
      "cell_type": "code",
      "metadata": {
        "id": "LXouPp0rNmfl",
        "colab": {
          "base_uri": "https://localhost:8080/"
        },
        "outputId": "8517070e-14a4-40f3-9e79-a5dc7a681d8e"
      },
      "source": [
        "# Multiplication of the above two matrices.\n",
        "m1=np.matrix([[8,7],[3,-5]])\n",
        "m2=np.matrix('3 ;2')\n",
        "mul=np.matmul(m1,m2)\n",
        "mul"
      ],
      "execution_count": 5,
      "outputs": [
        {
          "output_type": "execute_result",
          "data": {
            "text/plain": [
              "matrix([[38],\n",
              "        [-1]])"
            ]
          },
          "metadata": {},
          "execution_count": 5
        }
      ]
    },
    {
      "cell_type": "markdown",
      "metadata": {
        "id": "25p437ShPXO1"
      },
      "source": [
        "**Note:** The number of columns in the first matrix should be the same as the number of rows in the second matrix. Otherwise, you will get `ValueError`"
      ]
    },
    {
      "cell_type": "markdown",
      "metadata": {
        "id": "plpe2GRqTGlK"
      },
      "source": [
        "####  Identity Matrix"
      ]
    },
    {
      "cell_type": "code",
      "metadata": {
        "id": "6eewfaY_XHFk",
        "colab": {
          "base_uri": "https://localhost:8080/"
        },
        "outputId": "45e78eeb-a39d-4f7f-a2bf-aec838df13f1"
      },
      "source": [
        "# Create an identity matrix of the dimension 5 and of 'int' type.\n",
        "iden=np.identity(5,dtype=int)\n",
        "iden"
      ],
      "execution_count": 7,
      "outputs": [
        {
          "output_type": "execute_result",
          "data": {
            "text/plain": [
              "array([[1, 0, 0, 0, 0],\n",
              "       [0, 1, 0, 0, 0],\n",
              "       [0, 0, 1, 0, 0],\n",
              "       [0, 0, 0, 1, 0],\n",
              "       [0, 0, 0, 0, 1]])"
            ]
          },
          "metadata": {},
          "execution_count": 7
        }
      ]
    },
    {
      "cell_type": "markdown",
      "metadata": {
        "id": "WZQuoEgxX4yz"
      },
      "source": [
        "Now let's multiply a square matrix with an identity matrix of the same dimension (say 3)."
      ]
    },
    {
      "cell_type": "code",
      "metadata": {
        "id": "D44dik-GWOzp",
        "colab": {
          "base_uri": "https://localhost:8080/"
        },
        "outputId": "4d1b803e-9ab5-4b2c-aa45-374f38e4f52d"
      },
      "source": [
        "# Multiply a square matrix with an identity matrix of the same dimension.\n",
        "mtx=np.matrix('2 3 4;1 2 3;5 6 7')\n",
        "iden=np.identity(3,dtype=int)\n",
        "mul=np.matmul(mtx,iden)\n",
        "mul"
      ],
      "execution_count": 8,
      "outputs": [
        {
          "output_type": "execute_result",
          "data": {
            "text/plain": [
              "matrix([[2, 3, 4],\n",
              "        [1, 2, 3],\n",
              "        [5, 6, 7]])"
            ]
          },
          "metadata": {},
          "execution_count": 8
        }
      ]
    },
    {
      "cell_type": "markdown",
      "metadata": {
        "id": "vkRY_gZbM1gX"
      },
      "source": [
        "----"
      ]
    },
    {
      "cell_type": "markdown",
      "metadata": {
        "id": "DoLDbDJ-YUj0"
      },
      "source": [
        "####  Multiplicative Inverse of a Matrix^\n",
        "\n",
        "\n",
        "Eg. let $A$ be a matrix of dimension $3$\n",
        "\n",
        "$$A = \\begin{bmatrix} 1 & 3 & 3 \\\\ 1 & 4 & 3 \\\\ 1 & 3 & 4 \\\\\\end{bmatrix}$$\n",
        "\n",
        "Then its inverse is\n",
        "\n",
        "$$A^{-1} = \\begin{bmatrix} 7 & - 3 & -3 \\\\ -1 & 1 & 0 \\\\ -1 & 0 & 1 \\\\\\end{bmatrix}$$\n",
        "\n",
        "Both $A$ and $A^{-1}$ have the same dimension.\n",
        "\n",
        "If you multiply the matrix $A$ with its inverse, you should get the identity matrix of dimension $3$.\n",
        "\n",
        "$$A^{-1} A = \\begin{bmatrix} 7 & - 3 & -3 \\\\ -1 & 1 & 0 \\\\ -1 & 0 & 1 \\\\\\end{bmatrix} \\begin{bmatrix} 1 & 3 & 3 \\\\ 1 & 4 & 3 \\\\ 1 & 3 & 4 \\\\\\end{bmatrix}$$\n",
        "\n",
        "$$\\Rightarrow A^{-1}A = \\begin{bmatrix} 7 \\times 1 - 3 \\times 1 -3 \\times 1 &7 \\times 3 - 3 \\times 4 -3 \\times 3 & 7 \\times 3 - 3 \\times 3 - 3 \\times 4 \\\\ -1 \\times 1 + 1 \\times 1 + 0 \\times 1 & -1 \\times 3 + 1 \\times 4 + 0 \\times 3 & -1 \\times 3 + 1 \\times 3 + 0 \\times 4 \\\\ -1 \\times 1 + 0 \\times 1 + 1 \\times 1 & -1 \\times 3 + 0 \\times 4 + 1 \\times 3 & -1 \\times 3 + 0 \\times 3 + 1 \\times 4 \\\\\\end{bmatrix}$$\n",
        "\n",
        "$$\\Rightarrow A^{-1}A = \\begin{bmatrix} 1 & 0 & 0 \\\\ 0 & 1 & 0 \\\\ 0 & 0 & 1 \\\\\\end{bmatrix}$$\n"
      ]
    },
    {
      "cell_type": "code",
      "metadata": {
        "id": "LwCmDs6_MXCn",
        "colab": {
          "base_uri": "https://localhost:8080/"
        },
        "outputId": "162f99ff-71db-42a1-977f-655f014657b8"
      },
      "source": [
        "#Multiply the above matrix with its inverse.\n",
        "m1=np.matrix('1 3 3;1 4 3;1 3 4')\n",
        "inv=np.linalg.inv(m1)\n",
        "mul=np.matmul(m1,inv)\n",
        "mul"
      ],
      "execution_count": 9,
      "outputs": [
        {
          "output_type": "execute_result",
          "data": {
            "text/plain": [
              "matrix([[1., 0., 0.],\n",
              "        [0., 1., 0.],\n",
              "        [0., 0., 1.]])"
            ]
          },
          "metadata": {},
          "execution_count": 9
        }
      ]
    },
    {
      "cell_type": "markdown",
      "metadata": {
        "id": "6dGeH1NbkZZl"
      },
      "source": [
        "#### Determinant of a Matrix^^\n",
        "\n",
        "\n",
        "$$X = \\begin{bmatrix} 8 & 7 \\\\ 3\t& -5 \\\\\\end{bmatrix}$$\n",
        "\n",
        " To calculate the determinant value of a square matrix, use the `linalg.det()` function of the `numpy` module.\n",
        "\n",
        "**Syntax:** `np.linalg.det(a)`\n",
        "\n",
        "where `a` is some square matrix."
      ]
    },
    {
      "cell_type": "code",
      "metadata": {
        "id": "Ai-xRdWtzXOu",
        "colab": {
          "base_uri": "https://localhost:8080/"
        },
        "outputId": "0052f909-fe5b-410c-c575-4926a8bcbcee"
      },
      "source": [
        "# Calculate the determinant of the matrix X.\n",
        "x=np.matrix('8 7 ; 3 -5')\n",
        "det=np.linalg.det(x)\n",
        "det"
      ],
      "execution_count": 10,
      "outputs": [
        {
          "output_type": "execute_result",
          "data": {
            "text/plain": [
              "-60.99999999999995"
            ]
          },
          "metadata": {},
          "execution_count": 10
        }
      ]
    },
    {
      "cell_type": "markdown",
      "metadata": {
        "id": "-Y5wSAT5bios"
      },
      "source": [
        "Let's calculate the determinant of the matrix\n",
        "\n",
        "$$A = \\begin{bmatrix} 1 & 3 & 3 \\\\ 1 & 4 & 3 \\\\ 1 & 3 & 4 \\\\\\end{bmatrix}$$\n",
        "\n",
        "using Python."
      ]
    },
    {
      "cell_type": "code",
      "metadata": {
        "id": "20_XDKC4Az-g",
        "colab": {
          "base_uri": "https://localhost:8080/"
        },
        "outputId": "69187d4f-6ae3-4729-b6cf-ef750f6cdf93"
      },
      "source": [
        "#Calculate the determinant of the above matrix A.\n",
        "A=np.matrix('1 3 3;1 4 3;1 3 4')\n",
        "det=np.linalg.det(A)\n",
        "det"
      ],
      "execution_count": 11,
      "outputs": [
        {
          "output_type": "execute_result",
          "data": {
            "text/plain": [
              "1.0"
            ]
          },
          "metadata": {},
          "execution_count": 11
        }
      ]
    },
    {
      "cell_type": "code",
      "metadata": {
        "id": "jSCBQqbWL8Ul",
        "colab": {
          "base_uri": "https://localhost:8080/"
        },
        "outputId": "c96f4b52-ce44-4f14-bd07-1695fc7f83e3"
      },
      "source": [
        "# Calculate the inverse of the above matrix A.\n",
        "A=np.matrix('1 3 3;1 4 3;1 3 4')\n",
        "inv=np.linalg.inv(A)\n",
        "inv"
      ],
      "execution_count": 12,
      "outputs": [
        {
          "output_type": "execute_result",
          "data": {
            "text/plain": [
              "matrix([[ 7., -3., -3.],\n",
              "        [-1.,  1.,  0.],\n",
              "        [-1.,  0.,  1.]])"
            ]
          },
          "metadata": {},
          "execution_count": 12
        }
      ]
    },
    {
      "cell_type": "code",
      "metadata": {
        "id": "-9gj_oaLehon",
        "colab": {
          "base_uri": "https://localhost:8080/",
          "height": 206
        },
        "outputId": "83ce217e-187c-4e37-f291-444754848a9f"
      },
      "source": [
        "#Create a dictionary to store weatherdata and convert it to a dtaframe\n",
        "import pandas as pd\n",
        "weather={'day':['20/11/21','21/11/21','22/44/21','23/11/21','24/11/21','25/11/21'],\n",
        "         'city':['kochi','athani','tripunithura','chottanikara','piravom','thiruvaniyoor'],\n",
        "         'temparature':[30,27,29,26,33,32],\n",
        "         'windspeed':[50,60,55,65,67,65]}\n",
        "df=pd.DataFrame(weather)\n",
        "# Display the first five rows of dataframe\n",
        "df.head()\n",
        "\n"
      ],
      "execution_count": 22,
      "outputs": [
        {
          "output_type": "execute_result",
          "data": {
            "text/html": [
              "<div>\n",
              "<style scoped>\n",
              "    .dataframe tbody tr th:only-of-type {\n",
              "        vertical-align: middle;\n",
              "    }\n",
              "\n",
              "    .dataframe tbody tr th {\n",
              "        vertical-align: top;\n",
              "    }\n",
              "\n",
              "    .dataframe thead th {\n",
              "        text-align: right;\n",
              "    }\n",
              "</style>\n",
              "<table border=\"1\" class=\"dataframe\">\n",
              "  <thead>\n",
              "    <tr style=\"text-align: right;\">\n",
              "      <th></th>\n",
              "      <th>day</th>\n",
              "      <th>city</th>\n",
              "      <th>temparature</th>\n",
              "      <th>windspeed</th>\n",
              "    </tr>\n",
              "  </thead>\n",
              "  <tbody>\n",
              "    <tr>\n",
              "      <th>0</th>\n",
              "      <td>20/11/21</td>\n",
              "      <td>kochi</td>\n",
              "      <td>30</td>\n",
              "      <td>50</td>\n",
              "    </tr>\n",
              "    <tr>\n",
              "      <th>1</th>\n",
              "      <td>21/11/21</td>\n",
              "      <td>athani</td>\n",
              "      <td>27</td>\n",
              "      <td>60</td>\n",
              "    </tr>\n",
              "    <tr>\n",
              "      <th>2</th>\n",
              "      <td>22/44/21</td>\n",
              "      <td>tripunithura</td>\n",
              "      <td>29</td>\n",
              "      <td>55</td>\n",
              "    </tr>\n",
              "    <tr>\n",
              "      <th>3</th>\n",
              "      <td>23/11/21</td>\n",
              "      <td>chottanikara</td>\n",
              "      <td>26</td>\n",
              "      <td>65</td>\n",
              "    </tr>\n",
              "    <tr>\n",
              "      <th>4</th>\n",
              "      <td>24/11/21</td>\n",
              "      <td>piravom</td>\n",
              "      <td>33</td>\n",
              "      <td>67</td>\n",
              "    </tr>\n",
              "  </tbody>\n",
              "</table>\n",
              "</div>"
            ],
            "text/plain": [
              "        day          city  temparature  windspeed\n",
              "0  20/11/21         kochi           30         50\n",
              "1  21/11/21        athani           27         60\n",
              "2  22/44/21  tripunithura           29         55\n",
              "3  23/11/21  chottanikara           26         65\n",
              "4  24/11/21       piravom           33         67"
            ]
          },
          "metadata": {},
          "execution_count": 22
        }
      ]
    },
    {
      "cell_type": "code",
      "metadata": {
        "colab": {
          "base_uri": "https://localhost:8080/",
          "height": 206
        },
        "id": "V8-rYyex0kbi",
        "outputId": "0c5889ec-7358-421d-e16b-66e4120fcd67"
      },
      "source": [
        "#Display the last five rows of dataframe\n",
        "\n",
        "df.tail()"
      ],
      "execution_count": 23,
      "outputs": [
        {
          "output_type": "execute_result",
          "data": {
            "text/html": [
              "<div>\n",
              "<style scoped>\n",
              "    .dataframe tbody tr th:only-of-type {\n",
              "        vertical-align: middle;\n",
              "    }\n",
              "\n",
              "    .dataframe tbody tr th {\n",
              "        vertical-align: top;\n",
              "    }\n",
              "\n",
              "    .dataframe thead th {\n",
              "        text-align: right;\n",
              "    }\n",
              "</style>\n",
              "<table border=\"1\" class=\"dataframe\">\n",
              "  <thead>\n",
              "    <tr style=\"text-align: right;\">\n",
              "      <th></th>\n",
              "      <th>day</th>\n",
              "      <th>city</th>\n",
              "      <th>temparature</th>\n",
              "      <th>windspeed</th>\n",
              "    </tr>\n",
              "  </thead>\n",
              "  <tbody>\n",
              "    <tr>\n",
              "      <th>1</th>\n",
              "      <td>21/11/21</td>\n",
              "      <td>athani</td>\n",
              "      <td>27</td>\n",
              "      <td>60</td>\n",
              "    </tr>\n",
              "    <tr>\n",
              "      <th>2</th>\n",
              "      <td>22/44/21</td>\n",
              "      <td>tripunithura</td>\n",
              "      <td>29</td>\n",
              "      <td>55</td>\n",
              "    </tr>\n",
              "    <tr>\n",
              "      <th>3</th>\n",
              "      <td>23/11/21</td>\n",
              "      <td>chottanikara</td>\n",
              "      <td>26</td>\n",
              "      <td>65</td>\n",
              "    </tr>\n",
              "    <tr>\n",
              "      <th>4</th>\n",
              "      <td>24/11/21</td>\n",
              "      <td>piravom</td>\n",
              "      <td>33</td>\n",
              "      <td>67</td>\n",
              "    </tr>\n",
              "    <tr>\n",
              "      <th>5</th>\n",
              "      <td>25/11/21</td>\n",
              "      <td>thiruvaniyoor</td>\n",
              "      <td>32</td>\n",
              "      <td>65</td>\n",
              "    </tr>\n",
              "  </tbody>\n",
              "</table>\n",
              "</div>"
            ],
            "text/plain": [
              "        day           city  temparature  windspeed\n",
              "1  21/11/21         athani           27         60\n",
              "2  22/44/21   tripunithura           29         55\n",
              "3  23/11/21   chottanikara           26         65\n",
              "4  24/11/21        piravom           33         67\n",
              "5  25/11/21  thiruvaniyoor           32         65"
            ]
          },
          "metadata": {},
          "execution_count": 23
        }
      ]
    }
  ]
}