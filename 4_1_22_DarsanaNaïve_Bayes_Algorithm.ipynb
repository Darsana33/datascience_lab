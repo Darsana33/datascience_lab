{
  "nbformat": 4,
  "nbformat_minor": 0,
  "metadata": {
    "colab": {
      "name": "4/1/22 DarsanaNaïve Bayes Algorithm.ipynb",
      "provenance": [],
      "collapsed_sections": [],
      "include_colab_link": true
    },
    "kernelspec": {
      "name": "python3",
      "display_name": "Python 3"
    },
    "language_info": {
      "name": "python"
    }
  },
  "cells": [
    {
      "cell_type": "markdown",
      "metadata": {
        "id": "view-in-github",
        "colab_type": "text"
      },
      "source": [
        "<a href=\"https://colab.research.google.com/github/Darsana33/datascience_lab/blob/main/4_1_22_DarsanaNa%C3%AFve_Bayes_Algorithm.ipynb\" target=\"_parent\"><img src=\"https://colab.research.google.com/assets/colab-badge.svg\" alt=\"Open In Colab\"/></a>"
      ]
    },
    {
      "cell_type": "markdown",
      "source": [
        "Aim: Program to implement Naïve Bayes Algorithm using any standard dataset\n",
        "available in the public domain and find the accuracy of the algorithm"
      ],
      "metadata": {
        "id": "f4TwDjLCpTcn"
      }
    },
    {
      "cell_type": "markdown",
      "source": [
        "\n",
        "Short notes: Naive Bayes\n",
        "\n",
        "Bayes’ Theorem provides a way that we can calculate the probability of a piece of data belonging to a given class, given our prior knowledge. Bayes’ Theorem is stated as:\n",
        "\n",
        "P(class|data) = (P(data|class) * P(class)) / P(data)\n",
        "\n",
        "Where P(class|data) is the probability of class given the provided data."
      ],
      "metadata": {
        "id": "_23W0JVJq1-V"
      }
    },
    {
      "cell_type": "markdown",
      "source": [
        "We are using Iris Dataset. The Iris Flower Dataset involves predicting the flower species given measurements of iris flowers.\n",
        "\n",
        "It is a multiclass classification problem. The number of observations for each class is balanced. There are 150 observations with 4 input variables and 1 output variable. The variable names are as follows:\n",
        "\n",
        "Sepal length in cm.\n",
        "\n",
        "Sepal width in cm.\n",
        "\n",
        "Petal length in cm.\n",
        "\n",
        "Petal width in cm., and\n",
        "\n",
        "Class.\n",
        "\n",
        "Algorithm:\n",
        "\n",
        "Step 1: Separate By Class.\n",
        "\n",
        "Step 2: Summarize Dataset.\n",
        "\n",
        "Step 3: Summarize Data By Class.\n",
        "\n",
        "Step 4: Gaussian Probability Density Function.\n",
        "\n",
        "Step 5: Class Probabilities."
      ],
      "metadata": {
        "id": "Aq3NJZhGrENv"
      }
    },
    {
      "cell_type": "code",
      "source": [
        "#Import Modules\n",
        "import numpy as np\n",
        "import matplotlib.pyplot as plt\n",
        "from sklearn import neighbors, datasets, preprocessing\n",
        "from sklearn.model_selection import train_test_split\n",
        "from sklearn.neighbors import KNeighborsClassifier\n",
        "from sklearn.metrics import classification_report,confusion_matrix,accuracy_score\n",
        "\n",
        "\n",
        "#Load iris dataset & do train_test_split \n",
        "iris=datasets.load_iris()\n",
        "x,y=iris.data[:,:],iris.target\n",
        "x_train,x_test,y_train,y_test=train_test_split(x,y,stratify=y,random_state=20,train_size=.8)\n"
      ],
      "metadata": {
        "id": "N3sWnWz_rxIR"
      },
      "execution_count": 1,
      "outputs": []
    },
    {
      "cell_type": "code",
      "source": [
        "#Feature Scaling\n",
        "scaler=preprocessing.StandardScaler().fit(x_train)\n",
        "x_train=scaler.transform(x_train)\n",
        "x_test=scaler.transform(x_test)\n",
        "x_train"
      ],
      "metadata": {
        "id": "Jq-Uyizutrxu",
        "colab": {
          "base_uri": "https://localhost:8080/"
        },
        "outputId": "cf1169c0-9541-436e-9aca-dd78a4618be2"
      },
      "execution_count": 2,
      "outputs": [
        {
          "output_type": "execute_result",
          "data": {
            "text/plain": [
              "array([[-0.02627732, -1.00810966,  0.13128182,  0.00996   ],\n",
              "       [-0.87523698,  1.10598438, -1.34741591, -1.31804007],\n",
              "       [-0.75395703,  1.10598438, -1.29054292, -1.31804007],\n",
              "       [-1.11779688,  1.34088372, -1.34741591, -1.45084008],\n",
              "       [-0.51139713,  2.04558174, -1.4042889 , -1.05244006],\n",
              "       [-0.26883722, -0.53831098,  0.64313872,  1.07236006],\n",
              "       [-0.99651693, -1.71280767, -0.26682911, -0.25564001],\n",
              "       [ 0.94396229, -0.30341164,  0.47251976,  0.14276001],\n",
              "       [-0.99651693,  0.63618571, -1.34741591, -1.31804007],\n",
              "       [ 0.58012243, -1.243009  ,  0.70001171,  0.93956005],\n",
              "       [ 0.58012243,  0.63618571,  1.26874161,  1.73636009],\n",
              "       [ 2.27804175, -0.53831098,  1.66685254,  1.07236006],\n",
              "       [-0.39011718, -1.47790834,  0.01753584, -0.12284001],\n",
              "       [-1.48163674,  0.40128637, -1.34741591, -1.31804007],\n",
              "       [-1.72419664,  0.40128637, -1.4042889 , -1.31804007],\n",
              "       [-0.87523698,  0.87108505, -1.29054292, -1.31804007],\n",
              "       [-0.87523698, -1.243009  , -0.43744808, -0.12284001],\n",
              "       [ 1.18652219,  0.40128637,  1.21186862,  1.47076008],\n",
              "       [ 1.30780214,  0.16638703,  0.7568847 ,  1.47076008],\n",
              "       [ 1.06524224,  0.63618571,  1.09812264,  1.20516007],\n",
              "       [ 1.42908209,  0.40128637,  0.52939275,  0.27556001],\n",
              "       [ 1.06524224, -0.06851231,  0.70001171,  0.67396004],\n",
              "       [ 2.27804175, -0.06851231,  1.3256146 ,  1.47076008],\n",
              "       [-0.26883722, -1.243009  ,  0.07440883, -0.12284001],\n",
              "       [ 0.33756253, -1.00810966,  1.04124965,  0.27556001],\n",
              "       [ 0.70140238,  0.16638703,  0.98437666,  0.80676004],\n",
              "       [ 0.21628258, -0.30341164,  0.41564677,  0.40836002],\n",
              "       [ 0.45884248, -0.53831098,  0.58626573,  0.80676004],\n",
              "       [-1.72419664, -0.30341164, -1.34741591, -1.31804007],\n",
              "       [-1.60291669, -1.71280767, -1.4042889 , -1.18524006],\n",
              "       [-0.14755727, -1.243009  ,  0.70001171,  1.07236006],\n",
              "       [ 0.70140238, -0.77321032,  0.87063068,  0.93956005],\n",
              "       [-0.87523698,  0.63618571, -1.17679694, -0.91964005],\n",
              "       [ 0.70140238, -0.53831098,  1.04124965,  1.20516007],\n",
              "       [-0.26883722, -0.06851231,  0.18815481,  0.14276001],\n",
              "       [-0.99651693, -2.41750569, -0.15308313, -0.25564001],\n",
              "       [-1.11779688,  0.16638703, -1.29054292, -1.31804007],\n",
              "       [-0.39011718,  2.75027975, -1.34741591, -1.31804007],\n",
              "       [ 0.58012243,  0.87108505,  1.04124965,  1.60356009],\n",
              "       [-0.39011718, -1.243009  ,  0.13128182,  0.14276001],\n",
              "       [-1.23907683, -0.06851231, -1.34741591, -1.45084008],\n",
              "       [ 0.21628258, -1.94770701,  0.13128182, -0.25564001],\n",
              "       [-0.51139713,  1.57578306, -1.29054292, -1.31804007],\n",
              "       [-1.23907683, -0.06851231, -1.34741591, -1.18524006],\n",
              "       [ 0.58012243, -1.71280767,  0.35877378,  0.14276001],\n",
              "       [ 0.58012243, -1.243009  ,  0.64313872,  0.40836002],\n",
              "       [-1.11779688, -0.06851231, -1.34741591, -1.31804007],\n",
              "       [-1.84547659, -0.06851231, -1.51803488, -1.45084008],\n",
              "       [ 0.70140238,  0.40128637,  0.41564677,  0.40836002],\n",
              "       [-0.02627732,  2.28048107, -1.46116189, -1.31804007],\n",
              "       [-1.48163674,  0.87108505, -1.34741591, -1.18524006],\n",
              "       [-0.02627732, -0.77321032,  0.18815481, -0.25564001],\n",
              "       [ 0.58012243, -0.53831098,  0.7568847 ,  0.40836002],\n",
              "       [-0.99651693,  1.10598438, -1.4042889 , -1.18524006],\n",
              "       [-0.26883722, -0.06851231,  0.41564677,  0.40836002],\n",
              "       [-0.39011718, -1.47790834, -0.03933715, -0.25564001],\n",
              "       [ 1.79292194, -0.30341164,  1.43936058,  0.80676004],\n",
              "       [ 0.09500263, -0.06851231,  0.7568847 ,  0.80676004],\n",
              "       [-0.14755727, -0.30341164,  0.2450278 ,  0.14276001],\n",
              "       [ 1.06524224, -1.243009  ,  1.15499563,  0.80676004],\n",
              "       [ 0.45884248, -0.30341164,  0.30190079,  0.14276001],\n",
              "       [ 0.58012243, -0.30341164,  1.04124965,  0.80676004],\n",
              "       [-0.02627732, -0.77321032,  0.07440883,  0.00996   ],\n",
              "       [-0.39011718,  1.10598438, -1.4042889 , -1.31804007],\n",
              "       [-0.87523698,  1.8106824 , -1.23366993, -1.31804007],\n",
              "       [ 0.94396229, -0.06851231,  0.35877378,  0.27556001],\n",
              "       [ 2.27804175, -1.00810966,  1.78059852,  1.47076008],\n",
              "       [ 0.33756253, -0.30341164,  0.52939275,  0.27556001],\n",
              "       [-0.51139713,  2.04558174, -1.17679694, -1.05244006],\n",
              "       [ 0.82268233, -0.06851231,  1.15499563,  1.33796007],\n",
              "       [ 1.06524224,  0.16638703,  0.52939275,  0.40836002],\n",
              "       [ 1.67164199,  0.40128637,  1.26874161,  0.80676004],\n",
              "       [ 0.21628258,  0.87108505,  0.41564677,  0.54116003],\n",
              "       [-1.11779688, -1.243009  ,  0.41564677,  0.67396004],\n",
              "       [ 0.82268233, -0.06851231,  0.98437666,  0.80676004],\n",
              "       [ 1.06524224,  0.16638703,  1.04124965,  1.60356009],\n",
              "       [-0.99651693, -0.06851231, -1.23366993, -1.31804007],\n",
              "       [-0.87523698,  1.8106824 , -1.29054292, -1.18524006],\n",
              "       [ 0.09500263,  0.40128637,  0.58626573,  0.80676004],\n",
              "       [-0.75395703,  2.51538041, -1.29054292, -1.45084008],\n",
              "       [ 1.06524224,  0.63618571,  1.09812264,  1.73636009],\n",
              "       [ 0.82268233, -0.53831098,  0.47251976,  0.40836002],\n",
              "       [-0.99651693,  1.10598438, -1.23366993, -0.78684004],\n",
              "       [-0.87523698,  1.10598438, -1.34741591, -1.18524006],\n",
              "       [-1.23907683,  0.87108505, -1.06305096, -1.31804007],\n",
              "       [ 0.21628258, -0.77321032,  0.7568847 ,  0.54116003],\n",
              "       [-0.02627732, -0.77321032,  0.7568847 ,  0.93956005],\n",
              "       [-0.99651693,  0.87108505, -1.29054292, -1.31804007],\n",
              "       [ 0.82268233,  0.40128637,  0.7568847 ,  1.07236006],\n",
              "       [-0.75395703, -0.77321032,  0.07440883,  0.27556001],\n",
              "       [-0.39011718, -1.71280767,  0.13128182,  0.14276001],\n",
              "       [-0.51139713, -0.06851231,  0.41564677,  0.40836002],\n",
              "       [-1.36035678,  0.40128637, -1.23366993, -1.31804007],\n",
              "       [ 2.1567618 , -0.06851231,  1.60997955,  1.20516007],\n",
              "       [-0.26883722, -0.77321032,  0.2450278 ,  0.14276001],\n",
              "       [-0.14755727, -0.53831098,  0.41564677,  0.14276001],\n",
              "       [-0.87523698,  1.57578306, -1.29054292, -1.05244006],\n",
              "       [-0.14755727,  1.8106824 , -1.17679694, -1.18524006],\n",
              "       [-0.39011718, -1.00810966,  0.35877378,  0.00996   ],\n",
              "       [ 1.67164199, -0.06851231,  1.15499563,  0.54116003],\n",
              "       [-0.14755727, -0.53831098,  0.18815481,  0.14276001],\n",
              "       [ 1.30780214,  0.16638703,  0.64313872,  0.40836002],\n",
              "       [ 0.82268233, -0.06851231,  0.81375769,  1.07236006],\n",
              "       [-1.72419664, -0.06851231, -1.4042889 , -1.31804007],\n",
              "       [ 1.06524224, -0.06851231,  0.81375769,  1.47076008],\n",
              "       [ 0.70140238,  0.40128637,  0.87063068,  1.47076008],\n",
              "       [ 1.55036204, -0.06851231,  1.21186862,  1.20516007],\n",
              "       [ 1.30780214,  0.40128637,  1.09812264,  1.47076008],\n",
              "       [ 1.91420189, -0.53831098,  1.3256146 ,  0.93956005],\n",
              "       [ 0.33756253, -0.53831098,  0.52939275,  0.00996   ],\n",
              "       [ 0.21628258, -1.94770701,  0.70001171,  0.40836002],\n",
              "       [-1.48163674,  0.16638703, -1.29054292, -1.31804007],\n",
              "       [-0.99651693,  1.34088372, -1.34741591, -1.31804007],\n",
              "       [-0.02627732, -0.77321032,  0.7568847 ,  0.93956005],\n",
              "       [ 0.33756253, -0.53831098,  0.13128182,  0.14276001],\n",
              "       [-1.23907683,  0.16638703, -1.23366993, -1.31804007],\n",
              "       [-1.36035678,  0.40128637, -1.4042889 , -1.31804007],\n",
              "       [ 1.30780214,  0.16638703,  0.92750367,  1.20516007],\n",
              "       [ 0.33756253, -0.06851231,  0.47251976,  0.27556001],\n",
              "       [-0.87523698,  1.8106824 , -1.06305096, -1.05244006]])"
            ]
          },
          "metadata": {},
          "execution_count": 2
        }
      ]
    },
    {
      "cell_type": "markdown",
      "source": [
        "In this step, we introduce the class GaussianNB that is used from the sklearn.naive_bayes library. Here, we have used a Gaussian model, there are several other models such as Bernoulli, Categorical and Multinomial. Here, we assign the GaussianNB class to the variable classifier and fit the X_train and y_train values to it for training purpose."
      ],
      "metadata": {
        "id": "fHscTWiVt8pC"
      }
    },
    {
      "cell_type": "code",
      "source": [
        "#Implement Naive Bayes\n",
        "from sklearn.naive_bayes  import GaussianNB\n",
        "darsana=GaussianNB()\n",
        "darsana.fit(x_train,y_train)"
      ],
      "metadata": {
        "id": "u0z9mzISuBKw",
        "colab": {
          "base_uri": "https://localhost:8080/"
        },
        "outputId": "a1033681-e130-4c20-dc61-9e94ad991da5"
      },
      "execution_count": 3,
      "outputs": [
        {
          "output_type": "execute_result",
          "data": {
            "text/plain": [
              "GaussianNB()"
            ]
          },
          "metadata": {},
          "execution_count": 3
        }
      ]
    },
    {
      "cell_type": "code",
      "source": [
        "#Predict the values for test data \n",
        "y_test_pred=darsana.predict(x_test) \n",
        "\n",
        "# Display accuracy score & display confusion matrix & classification report\n",
        "print(accuracy_score(y_test,y_test_pred))\n",
        "print(\"confusion matrix\")\n",
        "print(confusion_matrix(y_test,y_test_pred))\n",
        "print(\"classification report\")\n",
        "print(classification_report(y_test,y_test_pred))\n"
      ],
      "metadata": {
        "id": "hv382A48usEq",
        "colab": {
          "base_uri": "https://localhost:8080/"
        },
        "outputId": "6ef33634-655f-454a-ca38-6df60014a765"
      },
      "execution_count": 6,
      "outputs": [
        {
          "output_type": "stream",
          "name": "stdout",
          "text": [
            "1.0\n",
            "confusion matrix\n",
            "[[10  0  0]\n",
            " [ 0 10  0]\n",
            " [ 0  0 10]]\n",
            "classification report\n",
            "              precision    recall  f1-score   support\n",
            "\n",
            "           0       1.00      1.00      1.00        10\n",
            "           1       1.00      1.00      1.00        10\n",
            "           2       1.00      1.00      1.00        10\n",
            "\n",
            "    accuracy                           1.00        30\n",
            "   macro avg       1.00      1.00      1.00        30\n",
            "weighted avg       1.00      1.00      1.00        30\n",
            "\n"
          ]
        }
      ]
    },
    {
      "cell_type": "code",
      "source": [
        "#bernoulli\n",
        "from sklearn.naive_bayes  import BernoulliNB\n",
        "darsana= BernoulliNB()\n",
        "darsana.fit(x_train,y_train)\n",
        "y_test_pred=darsana.predict(x_test)\n",
        "print(accuracy_score(y_test,y_test_pred))\n",
        "print(\"confusion matrix\")\n",
        "print(confusion_matrix(y_test,y_test_pred))\n",
        "print(\"classification report\")\n",
        "print(classification_report(y_test,y_test_pred))\n"
      ],
      "metadata": {
        "colab": {
          "base_uri": "https://localhost:8080/"
        },
        "id": "GYCpUTIJMEG2",
        "outputId": "1d23e60e-e631-4ee6-f9e3-0cf95146c339"
      },
      "execution_count": 7,
      "outputs": [
        {
          "output_type": "stream",
          "name": "stdout",
          "text": [
            "0.7\n",
            "confusion matrix\n",
            "[[10  0  0]\n",
            " [ 2  2  6]\n",
            " [ 0  1  9]]\n",
            "classification report\n",
            "              precision    recall  f1-score   support\n",
            "\n",
            "           0       0.83      1.00      0.91        10\n",
            "           1       0.67      0.20      0.31        10\n",
            "           2       0.60      0.90      0.72        10\n",
            "\n",
            "    accuracy                           0.70        30\n",
            "   macro avg       0.70      0.70      0.65        30\n",
            "weighted avg       0.70      0.70      0.65        30\n",
            "\n"
          ]
        }
      ]
    },
    {
      "cell_type": "code",
      "source": [
        ""
      ],
      "metadata": {
        "id": "eup-RCeSMnNm"
      },
      "execution_count": null,
      "outputs": []
    },
    {
      "cell_type": "markdown",
      "source": [
        "From the above confusion matrix, we infer that, out of 45 test set data, 44 were correctly classified and only 1 was incorrectly classified. This gives us a high accuracy of 97.7%."
      ],
      "metadata": {
        "id": "JFg1mUCswAIp"
      }
    }
  ]
}