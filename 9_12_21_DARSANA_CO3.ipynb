{
  "nbformat": 4,
  "nbformat_minor": 0,
  "metadata": {
    "colab": {
      "name": "9/12/21   DARSANA CO3",
      "provenance": [],
      "collapsed_sections": [],
      "include_colab_link": true
    },
    "kernelspec": {
      "name": "python3",
      "display_name": "Python 3"
    }
  },
  "cells": [
    {
      "cell_type": "markdown",
      "metadata": {
        "id": "view-in-github",
        "colab_type": "text"
      },
      "source": [
        "<a href=\"https://colab.research.google.com/github/Darsana33/datascience_lab/blob/main/9_12_21_DARSANA_CO3.ipynb\" target=\"_parent\"><img src=\"https://colab.research.google.com/assets/colab-badge.svg\" alt=\"Open In Colab\"/></a>"
      ]
    },
    {
      "cell_type": "markdown",
      "metadata": {
        "id": "m9dW2iOz-9Y-"
      },
      "source": [
        "### Problem Statement \n",
        "\n",
        "As an owner of a startup, you wish to forecast the sales of your product to plan how much money should be spent on advertisements. This is because the sale of a product is usually proportional to the money spent on advertisements.\n",
        "\n",
        "Predict the impact of TV advertising on your product sales by performing simple linear regression analysis. \n",
        "\n",
        "\n",
        "\n"
      ]
    },
    {
      "cell_type": "markdown",
      "metadata": {
        "id": "l2W51RVUDq5Q"
      },
      "source": [
        "---"
      ]
    },
    {
      "cell_type": "markdown",
      "metadata": {
        "id": "b-0V3uyC_wkC"
      },
      "source": [
        "### List of Activities\n",
        "\n",
        "**Activity 1:** Analysing the dataset\n",
        "\n",
        "  \n",
        "**Activity 2:**  Train-Test split\n",
        "\n",
        "**Activity 3:**  Model training\n",
        "\n",
        "**Activity 4:** Plotting the best fit line\n",
        "\n",
        "**Activity 5:** Model prediction\n",
        "\n",
        "\n",
        "\n"
      ]
    },
    {
      "cell_type": "markdown",
      "metadata": {
        "id": "iPsloISKDsAG"
      },
      "source": [
        "---"
      ]
    },
    {
      "cell_type": "markdown",
      "metadata": {
        "id": "hEtQxeW__6oW"
      },
      "source": [
        "\n",
        "#### Activity 1:  Analysing the Dataset\n",
        "\n",
        "Create a Pandas DataFrame for **Advertising-Sales** dataset using the below link. This dataset contains information about the money spent on the TV, radio and newspaper advertisement (in thousand dollars) and their generated sales (in thousand units). The dataset consists of examples that are divided by 1000.\n",
        "\n",
        "**Dataset Link:** https://raw.githubusercontent.com/jiss-sngce/CO_3/main/advertising.csv\n",
        "\n",
        "Also, print the first five rows of the dataset. Check for null values and treat them accordingly.\n",
        "\n",
        "\n"
      ]
    },
    {
      "cell_type": "code",
      "metadata": {
        "id": "BdIrU2M0AWLK",
        "colab": {
          "base_uri": "https://localhost:8080/",
          "height": 206
        },
        "outputId": "18d49284-7fc1-442b-be2e-041a2c6ce39f"
      },
      "source": [
        "# Import modules\n",
        "import numpy as np\n",
        "import pandas as pd\n",
        "import matplotlib.pyplot as plt\n",
        "import seaborn as sns\n",
        "\n",
        "# Load the dataset\n",
        "ad_df=pd.read_csv('https://raw.githubusercontent.com/jiss-sngce/CO_3/main/advertising.csv')\n",
        "# Print first five rows using head() function\n",
        "ad_df.head()"
      ],
      "execution_count": 2,
      "outputs": [
        {
          "output_type": "execute_result",
          "data": {
            "text/html": [
              "<div>\n",
              "<style scoped>\n",
              "    .dataframe tbody tr th:only-of-type {\n",
              "        vertical-align: middle;\n",
              "    }\n",
              "\n",
              "    .dataframe tbody tr th {\n",
              "        vertical-align: top;\n",
              "    }\n",
              "\n",
              "    .dataframe thead th {\n",
              "        text-align: right;\n",
              "    }\n",
              "</style>\n",
              "<table border=\"1\" class=\"dataframe\">\n",
              "  <thead>\n",
              "    <tr style=\"text-align: right;\">\n",
              "      <th></th>\n",
              "      <th>TV</th>\n",
              "      <th>Radio</th>\n",
              "      <th>Newspaper</th>\n",
              "      <th>Sales</th>\n",
              "    </tr>\n",
              "  </thead>\n",
              "  <tbody>\n",
              "    <tr>\n",
              "      <th>0</th>\n",
              "      <td>230.1</td>\n",
              "      <td>37.8</td>\n",
              "      <td>69.2</td>\n",
              "      <td>22.1</td>\n",
              "    </tr>\n",
              "    <tr>\n",
              "      <th>1</th>\n",
              "      <td>44.5</td>\n",
              "      <td>39.3</td>\n",
              "      <td>45.1</td>\n",
              "      <td>10.4</td>\n",
              "    </tr>\n",
              "    <tr>\n",
              "      <th>2</th>\n",
              "      <td>17.2</td>\n",
              "      <td>45.9</td>\n",
              "      <td>69.3</td>\n",
              "      <td>12.0</td>\n",
              "    </tr>\n",
              "    <tr>\n",
              "      <th>3</th>\n",
              "      <td>151.5</td>\n",
              "      <td>41.3</td>\n",
              "      <td>58.5</td>\n",
              "      <td>16.5</td>\n",
              "    </tr>\n",
              "    <tr>\n",
              "      <th>4</th>\n",
              "      <td>180.8</td>\n",
              "      <td>10.8</td>\n",
              "      <td>58.4</td>\n",
              "      <td>17.9</td>\n",
              "    </tr>\n",
              "  </tbody>\n",
              "</table>\n",
              "</div>"
            ],
            "text/plain": [
              "      TV  Radio  Newspaper  Sales\n",
              "0  230.1   37.8       69.2   22.1\n",
              "1   44.5   39.3       45.1   10.4\n",
              "2   17.2   45.9       69.3   12.0\n",
              "3  151.5   41.3       58.5   16.5\n",
              "4  180.8   10.8       58.4   17.9"
            ]
          },
          "metadata": {},
          "execution_count": 2
        }
      ]
    },
    {
      "cell_type": "code",
      "metadata": {
        "id": "8LXtVcLdhxo7",
        "colab": {
          "base_uri": "https://localhost:8080/"
        },
        "outputId": "2547b1ee-4261-40d4-8a81-41f777103389"
      },
      "source": [
        "# Check if there are any null values. If any column has null values, treat them accordingly\n",
        "ad_df.isnull().sum()"
      ],
      "execution_count": 4,
      "outputs": [
        {
          "output_type": "execute_result",
          "data": {
            "text/plain": [
              "TV           0\n",
              "Radio        0\n",
              "Newspaper    0\n",
              "Sales        0\n",
              "dtype: int64"
            ]
          },
          "metadata": {},
          "execution_count": 4
        }
      ]
    },
    {
      "cell_type": "markdown",
      "metadata": {
        "id": "rm8nBjLwiqzC"
      },
      "source": [
        "---"
      ]
    },
    {
      "cell_type": "markdown",
      "metadata": {
        "id": "lx5UydtLIYyG"
      },
      "source": [
        "#### Activity 2: Train-Test Split\n",
        "\n",
        "For simple linear regression, consider only the effect of **TV ads** on sales. Thus, `TV` is the feature variable and `Sales` is the target variable. \n",
        "\n",
        "Split the dataset into training set and test set such that the training set contains 67% of the instances and the remaining instances will become the test set.\n",
        "\n",
        "\n"
      ]
    },
    {
      "cell_type": "code",
      "metadata": {
        "id": "REuLvaloGigG"
      },
      "source": [
        "# Split the DataFrame into the training and test sets.\n",
        "from sklearn.model_selection import train_test_split\n",
        "x=ad_df['TV']\n",
        "y=ad_df['Sales']\n",
        "x_train,x_test,y_train,y_test=train_test_split(x,y,test_size=.33,random_state=15)"
      ],
      "execution_count": 37,
      "outputs": []
    },
    {
      "cell_type": "markdown",
      "metadata": {
        "id": "fSxPcV0ySZDu"
      },
      "source": [
        "---"
      ]
    },
    {
      "cell_type": "markdown",
      "metadata": {
        "id": "-k2GAbeQQq7Q"
      },
      "source": [
        "#### Activity 3: Model Training\n",
        "\n",
        "Train the simple regression model using **training data** to obtain the best fit line $y = mx + c$. For this, perform the following tasks:\n",
        "\n",
        "1. Create following two functions:\n",
        "\n",
        " - A function `errors_product()` that calculates the errors for the feature and target variables i.e. $(x_i - \\bar{x})(y_i - \\bar{y})$\n",
        "\n",
        " - A function `squared_errors()` that calculates the squared errors for the feature variable only i.e. $(x_i - \\bar{x})^2$\n",
        "\n",
        "2. Calculate the **slope** and **intercept** values for the best fit line by applying the following formulae:\n",
        " $$slope\\Rightarrow m = \\frac{\\sum(x_i - \\bar{x})(y_i - \\bar{y})}{\\sum (x_i - \\bar{x})^2}=\\frac{ errors\\_product().sum()}{squared\\_errors().sum()}$$\n",
        "\n",
        " $$intercept \\Rightarrow c = \\bar{y} - m \\bar{x}$$\n",
        "\n"
      ]
    },
    {
      "cell_type": "code",
      "metadata": {
        "id": "a__FT7MHHve4"
      },
      "source": [
        "# Create the 'errors_product()' and 'squared_errors()' function.\n",
        "def errors_product():\n",
        "  pro=(x_train-x_train.mean()) * (y_train-y_train.mean())\n",
        "  return pro\n",
        "def squared_errors():\n",
        "  sq=(x_train-x_train.mean())**2\n",
        "  return sq\n"
      ],
      "execution_count": 39,
      "outputs": []
    },
    {
      "cell_type": "code",
      "metadata": {
        "id": "UyGNYvU7H0hR",
        "colab": {
          "base_uri": "https://localhost:8080/"
        },
        "outputId": "d92cb021-9787-49a3-949f-ce123d98012e"
      },
      "source": [
        "# Calculate the slope and intercept values for the best fit line.\n",
        "slope = errors_product().sum() / squared_errors().sum()\n",
        "slope\n",
        "round(slope,3)\n"
      ],
      "execution_count": 40,
      "outputs": [
        {
          "output_type": "execute_result",
          "data": {
            "text/plain": [
              "0.057"
            ]
          },
          "metadata": {},
          "execution_count": 40
        }
      ]
    },
    {
      "cell_type": "code",
      "source": [
        "inc=y_train.mean()-slope*x_train.mean()\n",
        "inc\n",
        "round(inc,3)"
      ],
      "metadata": {
        "colab": {
          "base_uri": "https://localhost:8080/"
        },
        "id": "wYM0j5ZZmEEZ",
        "outputId": "7b7a5acc-0bbf-40e9-cfe1-de705ff3a4c0"
      },
      "execution_count": 41,
      "outputs": [
        {
          "output_type": "execute_result",
          "data": {
            "text/plain": [
              "6.767"
            ]
          },
          "metadata": {},
          "execution_count": 41
        }
      ]
    },
    {
      "cell_type": "markdown",
      "metadata": {
        "id": "cLJaPWLtfY8g"
      },
      "source": [
        "**Q:** What is the equation obtained for the best fit line of this model?\n",
        "\n",
        "**A:**slope(m)=0.057\n",
        "\n",
        "\n",
        "intercept(c)=6.767\n",
        "\n",
        "sales=0.057*tv+6.767\n"
      ]
    },
    {
      "cell_type": "code",
      "source": [
        ""
      ],
      "metadata": {
        "id": "HCArtNEppzHi"
      },
      "execution_count": null,
      "outputs": []
    },
    {
      "cell_type": "markdown",
      "metadata": {
        "id": "3AO9GzYGe0bm"
      },
      "source": [
        "#### Activity 4: Plotting the Best Fit Line\n",
        "\n",
        "After obtaining the slope and intercept values for the best fit line, plot this line along with the scatter plot to see how well it fits the points.\n"
      ]
    },
    {
      "cell_type": "code",
      "metadata": {
        "id": "6zzogPW1H46r",
        "colab": {
          "base_uri": "https://localhost:8080/",
          "height": 823
        },
        "outputId": "8f62f0d8-c015-43f4-b1e5-db0baf1314d5"
      },
      "source": [
        "#  Plot the regression line in the scatter plot between Sales and TV advertisment values.\n",
        "plt.style.use('dark_background')\n",
        "plt.figure(figsize=(16,14))\n",
        "plt.scatter(ad_df['TV'],ad_df['Sales'])\n",
        "plt.plot(ad_df['TV'],slope * ad_df['TV'] + inc,color='r', label='y=0.057*x+6.767')\n",
        "plt.xlabel('Tv')\n",
        "plt.ylabel('Sales')\n",
        "plt.legend()\n",
        "plt.show()"
      ],
      "execution_count": 44,
      "outputs": [
        {
          "output_type": "display_data",
          "data": {
            "image/png": "[encoded data removed]",
            "text/plain": [
              "<Figure size 1152x1008 with 1 Axes>"
            ]
          },
          "metadata": {}
        }
      ]
    },
    {
      "cell_type": "markdown",
      "metadata": {
        "id": "VCnDWR0lSayX"
      },
      "source": [
        "---"
      ]
    },
    {
      "cell_type": "markdown",
      "metadata": {
        "id": "ZcXTWRKuRAIs"
      },
      "source": [
        "#### Activity 5: Model Prediction\n",
        "\n",
        "For the TV advertising of $50,000, what is prediction for Sales? In order to predict this value, perform the following task:\n",
        "\n",
        "- Based on the regression line, create a function `sales_predicted()` which takes a budget to be used for TV advertising as an input and returns the corresponding units of Sales.\n",
        "- Call the function `sales_predicted()` and pass the amount spent on TV advertising. \n",
        "\n",
        "**Note:** To predict the sales for TV advertising of $50,000, pass 50 as parameter to `sales_predicted()` function as the original data of this dataset consists of examples that are divided by 1000. Also, the value obtained after calling `sales_predicted(50)` must be multiplied by 1000 to obtain the predicted units of sales.\n",
        "\n"
      ]
    },
    {
      "cell_type": "code",
      "metadata": {
        "id": "RKKT9L8nIfL_",
        "colab": {
          "base_uri": "https://localhost:8080/"
        },
        "outputId": "88ec8034-fceb-4fdc-9779-cb18097e9bb8"
      },
      "source": [
        "#Create a function which takes TV advertisement value as an input and returns the sales.\n",
        "def sales_predicted(tv_bd):\n",
        "  return 0.057*tv_bd+6.767\n",
        "  \n",
        "\n",
        "# Calculating sales value against $50,000 spent in TV ads\n",
        "bd=sales_predicted(50)\n",
        "bd*1000"
      ],
      "execution_count": 47,
      "outputs": [
        {
          "output_type": "execute_result",
          "data": {
            "text/plain": [
              "9617.0"
            ]
          },
          "metadata": {},
          "execution_count": 47
        }
      ]
    },
    {
      "cell_type": "markdown",
      "metadata": {
        "id": "RMl41ptEpLhi"
      },
      "source": [
        "**Q:** If you are planning to invest $50,000 dollars in TV advertising, how many unit of sales can be predicted according to this simple linear regression model?\n",
        "\n",
        "**A:** "
      ]
    },
    {
      "cell_type": "markdown",
      "metadata": {
        "id": "6Ybzt1WtVTiz"
      },
      "source": [
        "---"
      ]
    }
  ]
}